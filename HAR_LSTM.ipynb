{
 "cells": [
  {
   "cell_type": "code",
   "execution_count": 1,
   "metadata": {
    "collapsed": true
   },
   "outputs": [],
   "source": [
    "# Importing Libraries"
   ]
  },
  {
   "cell_type": "code",
   "execution_count": 1,
   "metadata": {},
   "outputs": [],
   "source": [
    "import pandas as pd\n",
    "import numpy as np"
   ]
  },
  {
   "cell_type": "code",
   "execution_count": 2,
   "metadata": {},
   "outputs": [],
   "source": [
    "# Activities are the class labels\n",
    "# It is a 6 class classification\n",
    "ACTIVITIES = {\n",
    "    0: 'WALKING',\n",
    "    1: 'WALKING_UPSTAIRS',\n",
    "    2: 'WALKING_DOWNSTAIRS',\n",
    "    3: 'SITTING',\n",
    "    4: 'STANDING',\n",
    "    5: 'LAYING',\n",
    "}\n",
    "\n",
    "# Utility function to print the confusion matrix\n",
    "def confusion_matrix(Y_true, Y_pred):\n",
    "    Y_true = pd.Series([ACTIVITIES[y] for y in np.argmax(Y_true, axis=1)])\n",
    "    Y_pred = pd.Series([ACTIVITIES[y] for y in np.argmax(Y_pred, axis=1)])\n",
    "\n",
    "    return pd.crosstab(Y_true, Y_pred, rownames=['True'], colnames=['Pred'])"
   ]
  },
  {
   "cell_type": "markdown",
   "metadata": {},
   "source": [
    "### Data"
   ]
  },
  {
   "cell_type": "code",
   "execution_count": 4,
   "metadata": {},
   "outputs": [],
   "source": [
    "# Data directory\n",
    "DATADIR = 'UCI_HAR_Dataset2'"
   ]
  },
  {
   "cell_type": "code",
   "execution_count": 5,
   "metadata": {},
   "outputs": [],
   "source": [
    "# Raw data signals\n",
    "# Signals are from Accelerometer and Gyroscope\n",
    "# The signals are in x,y,z directions\n",
    "# Sensor signals are filtered to have only body acceleration\n",
    "# excluding the acceleration due to gravity\n",
    "# Triaxial acceleration from the accelerometer is total acceleration\n",
    "SIGNALS = [\n",
    "    \"body_acc_x\",\n",
    "    \"body_acc_y\",\n",
    "    \"body_acc_z\",\n",
    "    \"body_gyro_x\",\n",
    "    \"body_gyro_y\",\n",
    "    \"body_gyro_z\",\n",
    "    \"total_acc_x\",\n",
    "    \"total_acc_y\",\n",
    "    \"total_acc_z\"\n",
    "]"
   ]
  },
  {
   "cell_type": "code",
   "execution_count": 21,
   "metadata": {},
   "outputs": [],
   "source": [
    "# Utility function to read the data from csv file\n",
    "def _read_csv(filename):\n",
    "    return pd.read_csv(filename, delim_whitespace=True, header=None)\n",
    "\n",
    "# Utility function to load the load\n",
    "def load_signals(subset):\n",
    "    signals_data = []\n",
    "\n",
    "    for signal in SIGNALS:\n",
    "        filename = f'UCI_HAR_Dataset/{subset}/Inertial Signals/{signal}_{subset}.txt'\n",
    "        signals_data.append(\n",
    "            _read_csv(filename).to_numpy()\n",
    "        ) \n",
    "\n",
    "    # Transpose is used to change the dimensionality of the output,\n",
    "    # aggregating the signals by combination of sample/timestep.\n",
    "    # Resultant shape is (7352 train/2947 test samples, 128 timesteps, 9 signals)\n",
    "    return np.transpose(signals_data, (1, 2, 0))"
   ]
  },
  {
   "cell_type": "code",
   "execution_count": 22,
   "metadata": {},
   "outputs": [],
   "source": [
    "\n",
    "def load_y(subset):\n",
    "    \"\"\"\n",
    "    The objective that we are trying to predict is a integer, from 1 to 6,\n",
    "    that represents a human activity. We return a binary representation of \n",
    "    every sample objective as a 6 bits vector using One Hot Encoding\n",
    "    (https://pandas.pydata.org/pandas-docs/stable/generated/pandas.get_dummies.html)\n",
    "    \"\"\"\n",
    "    filename = f'UCI_HAR_Dataset/{subset}/y_{subset}.txt'\n",
    "    y = _read_csv(filename)[0]\n",
    "\n",
    "    return pd.get_dummies(y).to_numpy()"
   ]
  },
  {
   "cell_type": "code",
   "execution_count": 8,
   "metadata": {},
   "outputs": [],
   "source": [
    "def load_data():\n",
    "    \"\"\"\n",
    "    Obtain the dataset from multiple files.\n",
    "    Returns: X_train, X_test, y_train, y_test\n",
    "    \"\"\"\n",
    "    X_train, X_test = load_signals('train'), load_signals('test')\n",
    "    y_train, y_test = load_y('train'), load_y('test')\n",
    "\n",
    "    return X_train, X_test, y_train, y_test"
   ]
  },
  {
   "cell_type": "code",
   "execution_count": 10,
   "metadata": {},
   "outputs": [],
   "source": [
    "# Importing tensorflow\n",
    "np.random.seed(42)\n",
    "import tensorflow as tf"
   ]
  },
  {
   "cell_type": "code",
   "execution_count": 84,
   "metadata": {
    "collapsed": true
   },
   "outputs": [],
   "source": [
    "# Configuring a session\n",
    "session_conf = tf.ConfigProto(\n",
    "    intra_op_parallelism_threads=1,\n",
    "    inter_op_parallelism_threads=1\n",
    ")"
   ]
  },
  {
   "cell_type": "code",
   "execution_count": 85,
   "metadata": {},
   "outputs": [],
   "source": [
    "# Import Keras\n",
    "from keras import backend as K\n",
    "sess = tf.Session(graph=tf.get_default_graph(), config=session_conf)\n",
    "K.set_session(sess)"
   ]
  },
  {
   "cell_type": "code",
   "execution_count": 11,
   "metadata": {},
   "outputs": [],
   "source": [
    "# Importing libraries\n",
    "from keras.models import Sequential\n",
    "from keras.layers import LSTM\n",
    "from keras.layers.core import Dense, Dropout"
   ]
  },
  {
   "cell_type": "code",
   "execution_count": 12,
   "metadata": {},
   "outputs": [],
   "source": [
    "# Initializing parameters\n",
    "epochs = 30\n",
    "batch_size = 16\n",
    "n_hidden = 32"
   ]
  },
  {
   "cell_type": "code",
   "execution_count": 13,
   "metadata": {},
   "outputs": [],
   "source": [
    "# Utility function to count the number of classes\n",
    "def _count_classes(y):\n",
    "    return len(set([tuple(category) for category in y]))"
   ]
  },
  {
   "cell_type": "code",
   "execution_count": 23,
   "metadata": {},
   "outputs": [],
   "source": [
    "# Loading the train and test data\n",
    "X_train, X_test, Y_train, Y_test = load_data()"
   ]
  },
  {
   "cell_type": "code",
   "execution_count": 24,
   "metadata": {},
   "outputs": [
    {
     "name": "stdout",
     "output_type": "stream",
     "text": [
      "128\n",
      "9\n",
      "7352\n"
     ]
    }
   ],
   "source": [
    "timesteps = len(X_train[0])\n",
    "input_dim = len(X_train[0][0])\n",
    "n_classes = _count_classes(Y_train)\n",
    "\n",
    "print(timesteps)\n",
    "print(input_dim)\n",
    "print(len(X_train))"
   ]
  },
  {
   "cell_type": "markdown",
   "metadata": {},
   "source": [
    "- Defining the Architecture of LSTM"
   ]
  },
  {
   "cell_type": "code",
   "execution_count": 25,
   "metadata": {},
   "outputs": [
    {
     "name": "stdout",
     "output_type": "stream",
     "text": [
      "Model: \"sequential\"\n",
      "_________________________________________________________________\n",
      "Layer (type)                 Output Shape              Param #   \n",
      "=================================================================\n",
      "lstm (LSTM)                  (None, 32)                5376      \n",
      "_________________________________________________________________\n",
      "dropout (Dropout)            (None, 32)                0         \n",
      "_________________________________________________________________\n",
      "dense (Dense)                (None, 6)                 198       \n",
      "=================================================================\n",
      "Total params: 5,574\n",
      "Trainable params: 5,574\n",
      "Non-trainable params: 0\n",
      "_________________________________________________________________\n"
     ]
    }
   ],
   "source": [
    "# Initiliazing the sequential model\n",
    "model = Sequential()\n",
    "# Configuring the parameters\n",
    "model.add(LSTM(n_hidden, input_shape=(timesteps, input_dim)))\n",
    "# Adding a dropout layer\n",
    "model.add(Dropout(0.5))\n",
    "# Adding a dense output layer with sigmoid activation\n",
    "model.add(Dense(n_classes, activation='sigmoid'))\n",
    "model.summary()"
   ]
  },
  {
   "cell_type": "code",
   "execution_count": 26,
   "metadata": {},
   "outputs": [],
   "source": [
    "# Compiling the model\n",
    "model.compile(loss='categorical_crossentropy',\n",
    "              optimizer='rmsprop',\n",
    "              metrics=['accuracy'])"
   ]
  },
  {
   "cell_type": "code",
   "execution_count": 27,
   "metadata": {},
   "outputs": [
    {
     "name": "stdout",
     "output_type": "stream",
     "text": [
      "Epoch 1/30\n",
      "460/460 [==============================] - 10s 23ms/step - loss: 1.2361 - accuracy: 0.5146 - val_loss: 0.9738 - val_accuracy: 0.6223\n",
      "Epoch 2/30\n",
      "460/460 [==============================] - 10s 22ms/step - loss: 0.9711 - accuracy: 0.5775 - val_loss: 0.9804 - val_accuracy: 0.5816\n",
      "Epoch 3/30\n",
      "460/460 [==============================] - 10s 22ms/step - loss: 0.8691 - accuracy: 0.6080 - val_loss: 0.9766 - val_accuracy: 0.5728\n",
      "Epoch 4/30\n",
      "460/460 [==============================] - 10s 22ms/step - loss: 0.7529 - accuracy: 0.6442 - val_loss: 0.8165 - val_accuracy: 0.6125\n",
      "Epoch 5/30\n",
      "460/460 [==============================] - 10s 22ms/step - loss: 0.7496 - accuracy: 0.6474 - val_loss: 0.8264 - val_accuracy: 0.6166\n",
      "Epoch 6/30\n",
      "460/460 [==============================] - 10s 22ms/step - loss: 0.6805 - accuracy: 0.6687 - val_loss: 0.7411 - val_accuracy: 0.6373\n",
      "Epoch 7/30\n",
      "460/460 [==============================] - 10s 22ms/step - loss: 0.6175 - accuracy: 0.7186 - val_loss: 0.8818 - val_accuracy: 0.6675\n",
      "Epoch 8/30\n",
      "460/460 [==============================] - 10s 22ms/step - loss: 0.5509 - accuracy: 0.7805 - val_loss: 0.6320 - val_accuracy: 0.7971\n",
      "Epoch 9/30\n",
      "460/460 [==============================] - 10s 22ms/step - loss: 0.4875 - accuracy: 0.8362 - val_loss: 0.6388 - val_accuracy: 0.8117\n",
      "Epoch 10/30\n",
      "460/460 [==============================] - 10s 22ms/step - loss: 0.4284 - accuracy: 0.8730 - val_loss: 0.5649 - val_accuracy: 0.8371\n",
      "Epoch 11/30\n",
      "460/460 [==============================] - 10s 22ms/step - loss: 0.3535 - accuracy: 0.9004 - val_loss: 0.5507 - val_accuracy: 0.8320\n",
      "Epoch 12/30\n",
      "460/460 [==============================] - 10s 22ms/step - loss: 0.2982 - accuracy: 0.9120 - val_loss: 0.6872 - val_accuracy: 0.7883\n",
      "Epoch 13/30\n",
      "460/460 [==============================] - 10s 22ms/step - loss: 0.2655 - accuracy: 0.9191 - val_loss: 0.4362 - val_accuracy: 0.8765\n",
      "Epoch 14/30\n",
      "460/460 [==============================] - 10s 22ms/step - loss: 0.2369 - accuracy: 0.9255 - val_loss: 0.3612 - val_accuracy: 0.8819\n",
      "Epoch 15/30\n",
      "460/460 [==============================] - 10s 22ms/step - loss: 0.2186 - accuracy: 0.9342 - val_loss: 0.3292 - val_accuracy: 0.8799\n",
      "Epoch 16/30\n",
      "460/460 [==============================] - 10s 22ms/step - loss: 0.2177 - accuracy: 0.9313 - val_loss: 0.4098 - val_accuracy: 0.8758\n",
      "Epoch 17/30\n",
      "460/460 [==============================] - 10s 22ms/step - loss: 0.2125 - accuracy: 0.9323 - val_loss: 0.3481 - val_accuracy: 0.9019\n",
      "Epoch 18/30\n",
      "460/460 [==============================] - 10s 22ms/step - loss: 0.1821 - accuracy: 0.9381 - val_loss: 0.5248 - val_accuracy: 0.8782\n",
      "Epoch 19/30\n",
      "460/460 [==============================] - 10s 22ms/step - loss: 0.1949 - accuracy: 0.9376 - val_loss: 0.3624 - val_accuracy: 0.9043\n",
      "Epoch 20/30\n",
      "460/460 [==============================] - 10s 22ms/step - loss: 0.1758 - accuracy: 0.9412 - val_loss: 0.3804 - val_accuracy: 0.9121\n",
      "Epoch 21/30\n",
      "460/460 [==============================] - 10s 22ms/step - loss: 0.1826 - accuracy: 0.9422 - val_loss: 0.3959 - val_accuracy: 0.8863\n",
      "Epoch 22/30\n",
      "460/460 [==============================] - 10s 22ms/step - loss: 0.1664 - accuracy: 0.9414 - val_loss: 0.3626 - val_accuracy: 0.8999\n",
      "Epoch 23/30\n",
      "460/460 [==============================] - 10s 22ms/step - loss: 0.1802 - accuracy: 0.9384 - val_loss: 0.4836 - val_accuracy: 0.8772\n",
      "Epoch 24/30\n",
      "460/460 [==============================] - 10s 22ms/step - loss: 0.2100 - accuracy: 0.9369 - val_loss: 0.4330 - val_accuracy: 0.8663\n",
      "Epoch 25/30\n",
      "460/460 [==============================] - 10s 22ms/step - loss: 0.1767 - accuracy: 0.9391 - val_loss: 0.3359 - val_accuracy: 0.9057\n",
      "Epoch 26/30\n",
      "460/460 [==============================] - 10s 22ms/step - loss: 0.1632 - accuracy: 0.9423 - val_loss: 0.3810 - val_accuracy: 0.9070\n",
      "Epoch 27/30\n",
      "460/460 [==============================] - 10s 22ms/step - loss: 0.1818 - accuracy: 0.9425 - val_loss: 0.5850 - val_accuracy: 0.8843\n",
      "Epoch 28/30\n",
      "460/460 [==============================] - 10s 22ms/step - loss: 0.1690 - accuracy: 0.9470 - val_loss: 0.3475 - val_accuracy: 0.9141\n",
      "Epoch 29/30\n",
      "460/460 [==============================] - 10s 22ms/step - loss: 0.1536 - accuracy: 0.9467 - val_loss: 0.3088 - val_accuracy: 0.9158\n",
      "Epoch 30/30\n",
      "460/460 [==============================] - 10s 22ms/step - loss: 0.1818 - accuracy: 0.9418 - val_loss: 0.3137 - val_accuracy: 0.9145\n"
     ]
    },
    {
     "data": {
      "text/plain": [
       "<tensorflow.python.keras.callbacks.History at 0x191276d6f60>"
      ]
     },
     "execution_count": 27,
     "metadata": {},
     "output_type": "execute_result"
    }
   ],
   "source": [
    "# Training the model\n",
    "model.fit(X_train,\n",
    "          Y_train,\n",
    "          batch_size=batch_size,\n",
    "          validation_data=(X_test, Y_test),\n",
    "          epochs=epochs)"
   ]
  },
  {
   "cell_type": "code",
   "execution_count": 28,
   "metadata": {},
   "outputs": [
    {
     "name": "stdout",
     "output_type": "stream",
     "text": [
      "Pred                LAYING  SITTING  STANDING  WALKING  WALKING_DOWNSTAIRS  \\\n",
      "True                                                                         \n",
      "LAYING                 510        0        22        0                   0   \n",
      "SITTING                  3      394        86        1                   0   \n",
      "STANDING                 0       90       442        0                   0   \n",
      "WALKING                  0        0         0      477                  12   \n",
      "WALKING_DOWNSTAIRS       0        0         0        1                 410   \n",
      "WALKING_UPSTAIRS         0        1         1        2                   5   \n",
      "\n",
      "Pred                WALKING_UPSTAIRS  \n",
      "True                                  \n",
      "LAYING                             5  \n",
      "SITTING                            7  \n",
      "STANDING                           0  \n",
      "WALKING                            7  \n",
      "WALKING_DOWNSTAIRS                 9  \n",
      "WALKING_UPSTAIRS                 462  \n"
     ]
    }
   ],
   "source": [
    "# Confusion Matrix\n",
    "print(confusion_matrix(Y_test, model.predict(X_test)))"
   ]
  },
  {
   "cell_type": "code",
   "execution_count": 29,
   "metadata": {},
   "outputs": [
    {
     "name": "stdout",
     "output_type": "stream",
     "text": [
      "93/93 [==============================] - 1s 5ms/step - loss: 0.3137 - accuracy: 0.9145\n"
     ]
    }
   ],
   "source": [
    "score = model.evaluate(X_test, Y_test)"
   ]
  },
  {
   "cell_type": "code",
   "execution_count": 30,
   "metadata": {},
   "outputs": [
    {
     "data": {
      "text/plain": [
       "[0.3137085735797882, 0.9144893288612366]"
      ]
     },
     "execution_count": 30,
     "metadata": {},
     "output_type": "execute_result"
    }
   ],
   "source": [
    "score"
   ]
  },
  {
   "cell_type": "markdown",
   "metadata": {},
   "source": [
    "- With a simple 2 layer architecture we got 91.44% accuracy and a loss of 0.31\n",
    "- We can further imporve the performace with Hyperparameter tuning"
   ]
  }
 ],
 "metadata": {
  "kernelspec": {
   "display_name": "Python 3",
   "language": "python",
   "name": "python3"
  },
  "language_info": {
   "codemirror_mode": {
    "name": "ipython",
    "version": 3
   },
   "file_extension": ".py",
   "mimetype": "text/x-python",
   "name": "python",
   "nbconvert_exporter": "python",
   "pygments_lexer": "ipython3",
   "version": "3.6.13"
  }
 },
 "nbformat": 4,
 "nbformat_minor": 2
}
